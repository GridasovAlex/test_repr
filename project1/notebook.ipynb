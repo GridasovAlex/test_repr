{
 "cells": [
  {
   "attachments": {},
   "cell_type": "markdown",
   "metadata": {},
   "source": [
    "# Game predict number optimized"
   ]
  },
  {
   "attachments": {},
   "cell_type": "markdown",
   "metadata": {},
   "source": [
    "### code:"
   ]
  },
  {
   "cell_type": "code",
   "execution_count": 2,
   "metadata": {},
   "outputs": [],
   "source": [
    "import numpy as np"
   ]
  },
  {
   "cell_type": "code",
   "execution_count": 3,
   "metadata": {},
   "outputs": [],
   "source": [
    "def random_predict(number:int=1) -> int:\n",
    "    \"\"\"Randomly guessing a number\n",
    "\n",
    "    Args:\n",
    "        number (int, optional): mystery number. Defaults to 1.\n",
    "\n",
    "    Returns:\n",
    "        int: number of attempts\n",
    "    \"\"\"\n",
    "\n",
    "    count = 0\n",
    "    minimum_boundary = 0 # заносим в перемнные границы для поиска\n",
    "    maximum_boundary = 101\n",
    "\n",
    "    while True:\n",
    "        count += 1\n",
    "        predict_number = np.random.randint(minimum_boundary, maximum_boundary) # предполагаемое число\n",
    "\n",
    "        if predict_number < number:\n",
    "            minimum_boundary = predict_number # укорачиваем диопазон поиска по нижней границе\n",
    "\n",
    "        elif predict_number > number:\n",
    "            maximum_boundary = predict_number # укорачиваем диопазон поиска по верхней границе\n",
    "\n",
    "        else:\n",
    "            break # выход из цикла, если угадали\n",
    "\n",
    "    return(count)"
   ]
  },
  {
   "cell_type": "code",
   "execution_count": 4,
   "metadata": {},
   "outputs": [],
   "source": [
    "def score_game(random_predict) -> int:\n",
    "    \"\"\"is the number of times our algorithm guesses the number. 1000 passes\n",
    "\n",
    "    Args:\n",
    "        random_predict (function): guessing function\n",
    "\n",
    "    Returns:\n",
    "        int: average number of attempts\n",
    "    \"\"\"\n",
    "\n",
    "    count_ls = [] # список для сохранения количества попыток\n",
    "    np.random.seed(1) # фиксируем сид для воспроизводимости\n",
    "    random_array = np.random.randint(1, 101, size=(1000)) # загадали список чисел\n",
    "\n",
    "    for number in random_array:\n",
    "        count_ls.append(random_predict(number))\n",
    "\n",
    "    score = int(np.mean(count_ls)) # находим среднее количество попыток\n",
    "\n",
    "    print(f'the algorithm guesses the number on average in {score} tries')\n",
    "    return(score)"
   ]
  },
  {
   "attachments": {},
   "cell_type": "markdown",
   "metadata": {},
   "source": [
    "### output:"
   ]
  },
  {
   "cell_type": "code",
   "execution_count": 13,
   "metadata": {},
   "outputs": [
    {
     "name": "stdout",
     "output_type": "stream",
     "text": [
      "6\n",
      "4\n",
      "5\n",
      "\n",
      "the algorithm guesses the number on average in 8 tries\n",
      "the algorithm guesses the number on average in 8 tries\n",
      "the algorithm guesses the number on average in 8 tries\n"
     ]
    },
    {
     "data": {
      "text/plain": [
       "8"
      ]
     },
     "execution_count": 13,
     "metadata": {},
     "output_type": "execute_result"
    }
   ],
   "source": [
    "print(random_predict(10))\n",
    "print(random_predict(69))\n",
    "print(random_predict(100))\n",
    "\n",
    "print()\n",
    "\n",
    "score_game(random_predict)\n",
    "score_game(random_predict)\n",
    "score_game(random_predict)"
   ]
  }
 ],
 "metadata": {
  "kernelspec": {
   "display_name": "Python 3",
   "language": "python",
   "name": "python3"
  },
  "language_info": {
   "codemirror_mode": {
    "name": "ipython",
    "version": 3
   },
   "file_extension": ".py",
   "mimetype": "text/x-python",
   "name": "python",
   "nbconvert_exporter": "python",
   "pygments_lexer": "ipython3",
   "version": "3.9.10"
  },
  "orig_nbformat": 4,
  "vscode": {
   "interpreter": {
    "hash": "3960999bcbfccc29ff848ed319b9ad7c2d6c277c654bb95bb720c17358258047"
   }
  }
 },
 "nbformat": 4,
 "nbformat_minor": 2
}
